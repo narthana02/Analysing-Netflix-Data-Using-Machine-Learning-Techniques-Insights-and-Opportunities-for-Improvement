{
  "nbformat": 4,
  "nbformat_minor": 0,
  "metadata": {
    "colab": {
      "provenance": []
    },
    "kernelspec": {
      "name": "python3",
      "display_name": "Python 3"
    },
    "language_info": {
      "name": "python"
    }
  },
  "cells": [
    {
      "cell_type": "markdown",
      "source": [
        "Netflix Movies and TV Shows"
      ],
      "metadata": {
        "id": "KccBrELT7RoQ"
      }
    },
    {
      "cell_type": "code",
      "source": [
        "import pandas as pd\n",
        "\n",
        "# Load the Netflix titles dataset\n",
        "netflix_titles = pd.read_csv('/netflix tv shows and movies.csv')\n",
        "\n",
        "# Find the number of missing values in the release year column\n",
        "num_missing = netflix_titles['release_year'].isna().sum()\n",
        "print(f\"Number of missing values in the release year column: {num_missing}\")\n",
        "\n",
        "# Fill missing values using mean\n",
        "netflix_mean = netflix_titles['release_year'].mean(skipna=True)\n",
        "netflix_titles['release_year'].fillna(netflix_mean, inplace=True)\n",
        "\n",
        "# Fill missing values using median\n",
        "netflix_median = netflix_titles['release_year'].median(skipna=True)\n",
        "netflix_titles['release_year'].fillna(netflix_median, inplace=True)\n",
        "\n",
        "# Fill missing values using mode\n",
        "netflix_mode = netflix_titles['release_year'].mode()[0]\n",
        "netflix_titles['release_year'].fillna(netflix_mode, inplace=True)\n"
      ],
      "metadata": {
        "colab": {
          "base_uri": "https://localhost:8080/"
        },
        "id": "nNEKNXEu9ihQ",
        "outputId": "e04f988c-db85-4c14-9abe-eb5e8bb747cf"
      },
      "execution_count": null,
      "outputs": [
        {
          "output_type": "stream",
          "name": "stdout",
          "text": [
            "Number of missing values in the release year column: 10\n"
          ]
        }
      ]
    },
    {
      "cell_type": "code",
      "source": [
        "import pandas as pd\n",
        "\n",
        "# Load the dataset\n",
        "netflix_df = pd.read_csv(\"/netflix tv shows and movies.csv\")\n",
        "\n"
      ],
      "metadata": {
        "id": "bBye-YOuV5hd"
      },
      "execution_count": null,
      "outputs": []
    },
    {
      "cell_type": "code",
      "source": [
        "import pandas as pd\n",
        "\n",
        "# Load the dataset\n",
        "netflix_df = pd.read_csv(\"/netflix tv shows and movies.csv\")\n",
        "\n",
        "# Check for missing values\n",
        "print(netflix_df.isnull().sum())\n"
      ],
      "metadata": {
        "colab": {
          "base_uri": "https://localhost:8080/"
        },
        "id": "-Lptgr4jl45q",
        "outputId": "9c32a111-0064-4a32-8f73-b5ce1cb23fc6"
      },
      "execution_count": null,
      "outputs": [
        {
          "output_type": "stream",
          "name": "stdout",
          "text": [
            "show_id            0\n",
            "type               0\n",
            "title              0\n",
            "director        2634\n",
            "cast             825\n",
            "country          831\n",
            "date_added        10\n",
            "release_year      10\n",
            "rating             4\n",
            "duration           3\n",
            "listed_in          0\n",
            "description        0\n",
            "dtype: int64\n"
          ]
        }
      ]
    },
    {
      "cell_type": "code",
      "source": [
        "import pandas as pd\n",
        "\n",
        "# Load the Netflix titles dataset\n",
        "netflix_titles = pd.read_csv('/netflix tv shows and movies.csv')\n",
        "\n",
        "# Find the number of missing values in the duration column\n",
        "num_missing = netflix_titles['duration'].isna().sum()\n",
        "print(f\"Number of missing values in the duration column: {num_missing}\")\n",
        "\n",
        "# Remove non-numeric characters from the duration column\n",
        "netflix_titles['duration'] = netflix_titles['duration'].str.replace('\\D', '')\n",
        "\n",
        "# Convert the duration column to integers\n",
        "netflix_titles['duration'] = pd.to_numeric(netflix_titles['duration'], errors='coerce')\n",
        "\n",
        "# Fill missing values using mean\n",
        "netflix_mean = netflix_titles['duration'].mean(skipna=True)\n",
        "netflix_mean_filled = netflix_titles['duration'].fillna(netflix_mean)\n",
        "print(f\"Mean filled values:\\n{netflix_mean_filled[netflix_titles['duration'].isna()]}\")\n",
        "\n",
        "# Fill missing values using median\n",
        "netflix_median = netflix_titles['duration'].median(skipna=True)\n",
        "netflix_median_filled = netflix_titles['duration'].fillna(netflix_median)\n",
        "print(f\"Median filled values:\\n{netflix_median_filled[netflix_titles['duration'].isna()]}\")\n",
        "\n",
        "# Fill missing values using mode\n",
        "netflix_mode = netflix_titles['duration'].mode()[0]\n",
        "netflix_mode_filled = netflix_titles['duration'].fillna(netflix_mode)\n",
        "print(f\"Mode filled values:\\n{netflix_mode_filled[netflix_titles['duration'].isna()]}\")\n"
      ],
      "metadata": {
        "colab": {
          "base_uri": "https://localhost:8080/"
        },
        "id": "SacY0ekIAeM8",
        "outputId": "c7749e47-801a-4b17-a80a-8cc7f7d1a506"
      },
      "execution_count": null,
      "outputs": [
        {
          "output_type": "stream",
          "name": "stdout",
          "text": [
            "Number of missing values in the duration column: 3\n",
            "Mean filled values:\n",
            "5541    69.846888\n",
            "5794    69.846888\n",
            "5813    69.846888\n",
            "Name: duration, dtype: float64\n",
            "Median filled values:\n",
            "5541    88.0\n",
            "5794    88.0\n",
            "5813    88.0\n",
            "Name: duration, dtype: float64\n",
            "Mode filled values:\n",
            "5541    1.0\n",
            "5794    1.0\n",
            "5813    1.0\n",
            "Name: duration, dtype: float64\n"
          ]
        },
        {
          "output_type": "stream",
          "name": "stderr",
          "text": [
            "<ipython-input-2-7fccb04a4509>:11: FutureWarning: The default value of regex will change from True to False in a future version.\n",
            "  netflix_titles['duration'] = netflix_titles['duration'].str.replace('\\D', '')\n"
          ]
        }
      ]
    },
    {
      "cell_type": "code",
      "source": [
        "import pandas as pd\n",
        "\n",
        "# Load the Netflix titles dataset\n",
        "netflix_titles = pd.read_csv('/netflix tv shows and movies.csv')\n",
        "\n",
        "# Find the number of missing values in the release year column\n",
        "num_missing = netflix_titles['release_year'].isna().sum()\n",
        "print(f\"Number of missing values in the release year column: {num_missing}\")\n",
        "\n",
        "# Fill missing values using mean\n",
        "netflix_mean = netflix_titles['release_year'].mean(skipna=True)\n",
        "netflix_titles['release_year'].fillna(netflix_mean, inplace=True)\n",
        "netflix_mean_filled = netflix_titles['release_year'][netflix_titles['release_year'].isna()].fillna(netflix_mean)\n",
        "print(f\"Mean filled values:\\n{netflix_mean_filled}\")\n",
        "\n",
        "# Fill missing values using median\n",
        "netflix_median = netflix_titles['release_year'].median(skipna=True)\n",
        "netflix_titles['release_year'].fillna(netflix_median, inplace=True)\n",
        "netflix_median_filled = netflix_titles['release_year'][netflix_titles['release_year'].isna()].fillna(netflix_median)\n",
        "print(f\"Median filled values:\\n{netflix_median_filled}\")\n",
        "\n",
        "# Fill missing values using mode\n",
        "netflix_mode = netflix_titles['release_year'].mode()[0]\n",
        "netflix_titles['release_year'].fillna(netflix_mode, inplace=True)\n",
        "netflix_mode_filled = netflix_titles['release_year'][netflix_titles['release_year'].isna()].fillna(netflix_mode)\n",
        "print(f\"Mode filled values:\\n{netflix_mode_filled}\")\n"
      ],
      "metadata": {
        "colab": {
          "base_uri": "https://localhost:8080/"
        },
        "id": "GvHq0TUyCj_e",
        "outputId": "cc1b448f-79fe-4628-ae53-c8bf3d43c861"
      },
      "execution_count": null,
      "outputs": [
        {
          "output_type": "stream",
          "name": "stdout",
          "text": [
            "Number of missing values in the release year column: 10\n",
            "Mean filled values:\n",
            "Series([], Name: release_year, dtype: float64)\n",
            "Median filled values:\n",
            "Series([], Name: release_year, dtype: float64)\n",
            "Mode filled values:\n",
            "Series([], Name: release_year, dtype: float64)\n"
          ]
        }
      ]
    },
    {
      "cell_type": "code",
      "source": [
        "import pandas as pd\n",
        "from sklearn.impute import KNNImputer\n",
        "from sklearn.preprocessing import OneHotEncoder\n",
        "\n",
        "# Load the Netflix titles dataset into a Pandas DataFrame\n",
        "df = pd.read_csv('/netflix tv shows and movies.csv')\n",
        "\n",
        "# Identify the missing values in the dataset\n",
        "missing_data = df.isnull()\n",
        "\n",
        "# Split the dataset into two parts: one with missing values and the other with no missing values\n",
        "no_missing_data = df.dropna()\n",
        "missing_data = df[missing_data.any(axis=1)]\n",
        "\n",
        "# Use the dataset with no missing values as the training set\n",
        "X_train = no_missing_data.drop('show_id', axis=1)\n",
        "y_train = no_missing_data['show_id']\n",
        "\n",
        "# Perform one-hot encoding on the training set\n",
        "encoder = OneHotEncoder(handle_unknown='ignore')\n",
        "X_train_encoded = encoder.fit_transform(X_train)\n",
        "\n",
        "# Use the KNN imputer to impute the missing values in the dataset with missing values using the training set\n",
        "imputer = KNNImputer(n_neighbors=5)\n",
        "missing_data_encoded = encoder.transform(missing_data.drop('show_id', axis=1))\n",
        "imputed_data_encoded = imputer.fit_transform(missing_data_encoded.toarray()) # Convert to dense matrix\n",
        "imputed_data = pd.DataFrame(encoder.inverse_transform(imputed_data_encoded))\n",
        "\n",
        "# Combine the two datasets into a single dataset with imputed values\n",
        "imputed_data.insert(0, 'show_id', missing_data['show_id'].values)\n",
        "imputed_data.columns = df.columns\n",
        "\n",
        "df_imputed = pd.concat([no_missing_data, imputed_data])\n",
        "\n",
        "# Save the imputed dataset to a new CSV file\n",
        "df_imputed.to_csv('netflix_titles_imputed.csv', index=False)\n"
      ],
      "metadata": {
        "id": "NVVQQpjnIQuR"
      },
      "execution_count": null,
      "outputs": []
    },
    {
      "cell_type": "code",
      "source": [
        "import pandas as pd\n",
        "from sklearn.cluster import KMeans\n",
        "from sklearn.preprocessing import StandardScaler\n",
        "\n",
        "# Load the data into a pandas dataframe\n",
        "netflix_data = pd.read_csv('/netflix tv shows and movies.csv')\n",
        "\n",
        "# Select the numerical features for clustering\n",
        "numeric_cols = ['release_year']\n",
        "numeric_data = netflix_data[numeric_cols]\n",
        "\n",
        "# Replace missing values with the mean of the respective column\n",
        "numeric_data.fillna(numeric_data.mean(), inplace=True)\n",
        "\n",
        "# Scale the numerical data\n",
        "scaler = StandardScaler()\n",
        "scaled_data = scaler.fit_transform(numeric_data)\n",
        "\n",
        "# Perform KMeans clustering\n",
        "kmeans = KMeans(n_clusters=4, random_state=0)\n",
        "kmeans.fit(scaled_data)\n",
        "\n",
        "# Print the cluster centers and the count of movies in each cluster\n",
        "print(kmeans.cluster_centers_)\n",
        "print(pd.Series(kmeans.labels_).value_counts())\n"
      ],
      "metadata": {
        "colab": {
          "base_uri": "https://localhost:8080/"
        },
        "id": "DF2Qj3S3Nemk",
        "outputId": "3769b4b3-42ee-4ae8-c2b7-a57700e55965"
      },
      "execution_count": null,
      "outputs": [
        {
          "output_type": "stream",
          "name": "stderr",
          "text": [
            "/usr/local/lib/python3.9/dist-packages/pandas/core/generic.py:6392: SettingWithCopyWarning: \n",
            "A value is trying to be set on a copy of a slice from a DataFrame\n",
            "\n",
            "See the caveats in the documentation: https://pandas.pydata.org/pandas-docs/stable/user_guide/indexing.html#returning-a-view-versus-a-copy\n",
            "  return self._update_inplace(result)\n",
            "/usr/local/lib/python3.9/dist-packages/sklearn/cluster/_kmeans.py:870: FutureWarning: The default value of `n_init` will change from 10 to 'auto' in 1.4. Set the value of `n_init` explicitly to suppress the warning\n",
            "  warnings.warn(\n"
          ]
        },
        {
          "output_type": "stream",
          "name": "stdout",
          "text": [
            "[[ 0.43696582]\n",
            " [-2.02863498]\n",
            " [-4.84990888]\n",
            " [-0.40595404]]\n",
            "0    6208\n",
            "3    1880\n",
            "1     545\n",
            "2     174\n",
            "dtype: int64\n"
          ]
        }
      ]
    },
    {
      "cell_type": "code",
      "source": [
        "!pip install fancyimpute # Install the library\n",
        "\n",
        "import pandas as pd\n",
        "from fancyimpute import KNN\n",
        "\n",
        "# Load the dataset\n",
        "netflix_df = pd.read_csv(\"/netflix tv shows and movies.csv\")\n",
        "\n",
        "# Exclude non-numeric columns\n",
        "numeric_cols = netflix_df.select_dtypes(include=[float, int]).columns.tolist()\n",
        "netflix_numeric = netflix_df[numeric_cols]\n",
        "\n",
        "# Perform KNN imputation\n",
        "netflix_imputed = KNN(k=5).fit_transform(netflix_numeric)\n",
        "\n",
        "# Convert the imputed array back to a dataframe\n",
        "netflix_imputed_df = pd.DataFrame(netflix_imputed, columns=numeric_cols)\n",
        "\n",
        "# Combine the imputed data with the non-numeric columns\n",
        "non_numeric_cols = netflix_df.select_dtypes(exclude=[float, int]).columns.tolist()\n",
        "netflix_imputed_df[non_numeric_cols] = netflix_df[non_numeric_cols]\n",
        "\n",
        "# Check for missing values in the imputed dataframe\n",
        "print(netflix_imputed_df.isnull().sum())\n"
      ],
      "metadata": {
        "colab": {
          "base_uri": "https://localhost:8080/"
        },
        "id": "8f6pyzummrrh",
        "outputId": "1134f6c8-4196-48ec-d86d-b73570e95ccd"
      },
      "execution_count": null,
      "outputs": [
        {
          "output_type": "stream",
          "name": "stdout",
          "text": [
            "Looking in indexes: https://pypi.org/simple, https://us-python.pkg.dev/colab-wheels/public/simple/\n",
            "Requirement already satisfied: fancyimpute in /usr/local/lib/python3.9/dist-packages (0.7.0)\n",
            "Requirement already satisfied: pytest in /usr/local/lib/python3.9/dist-packages (from fancyimpute) (3.6.4)\n",
            "Requirement already satisfied: nose in /usr/local/lib/python3.9/dist-packages (from fancyimpute) (1.3.7)\n",
            "Requirement already satisfied: scikit-learn>=0.24.2 in /usr/local/lib/python3.9/dist-packages (from fancyimpute) (1.2.1)\n",
            "Requirement already satisfied: knnimpute>=0.1.0 in /usr/local/lib/python3.9/dist-packages (from fancyimpute) (0.1.0)\n",
            "Requirement already satisfied: cvxpy in /usr/local/lib/python3.9/dist-packages (from fancyimpute) (1.2.3)\n",
            "Requirement already satisfied: cvxopt in /usr/local/lib/python3.9/dist-packages (from fancyimpute) (1.3.0)\n",
            "Requirement already satisfied: six in /usr/local/lib/python3.9/dist-packages (from knnimpute>=0.1.0->fancyimpute) (1.15.0)\n",
            "Requirement already satisfied: numpy>=1.10 in /usr/local/lib/python3.9/dist-packages (from knnimpute>=0.1.0->fancyimpute) (1.22.4)\n",
            "Requirement already satisfied: scipy>=1.3.2 in /usr/local/lib/python3.9/dist-packages (from scikit-learn>=0.24.2->fancyimpute) (1.10.1)\n",
            "Requirement already satisfied: joblib>=1.1.1 in /usr/local/lib/python3.9/dist-packages (from scikit-learn>=0.24.2->fancyimpute) (1.2.0)\n",
            "Requirement already satisfied: threadpoolctl>=2.0.0 in /usr/local/lib/python3.9/dist-packages (from scikit-learn>=0.24.2->fancyimpute) (3.1.0)\n",
            "Requirement already satisfied: ecos>=2 in /usr/local/lib/python3.9/dist-packages (from cvxpy->fancyimpute) (2.0.12)\n",
            "Requirement already satisfied: setuptools<=64.0.2 in /usr/local/lib/python3.9/dist-packages (from cvxpy->fancyimpute) (57.4.0)\n",
            "Requirement already satisfied: osqp>=0.4.1 in /usr/local/lib/python3.9/dist-packages (from cvxpy->fancyimpute) (0.6.2.post0)\n",
            "Requirement already satisfied: scs>=1.1.6 in /usr/local/lib/python3.9/dist-packages (from cvxpy->fancyimpute) (3.2.2)\n",
            "Requirement already satisfied: attrs>=17.4.0 in /usr/local/lib/python3.9/dist-packages (from pytest->fancyimpute) (22.2.0)\n",
            "Requirement already satisfied: pluggy<0.8,>=0.5 in /usr/local/lib/python3.9/dist-packages (from pytest->fancyimpute) (0.7.1)\n",
            "Requirement already satisfied: more-itertools>=4.0.0 in /usr/local/lib/python3.9/dist-packages (from pytest->fancyimpute) (9.1.0)\n",
            "Requirement already satisfied: py>=1.5.0 in /usr/local/lib/python3.9/dist-packages (from pytest->fancyimpute) (1.11.0)\n",
            "Requirement already satisfied: atomicwrites>=1.0 in /usr/local/lib/python3.9/dist-packages (from pytest->fancyimpute) (1.4.1)\n",
            "Requirement already satisfied: qdldl in /usr/local/lib/python3.9/dist-packages (from osqp>=0.4.1->cvxpy->fancyimpute) (0.1.5.post3)\n",
            "Imputing row 1/8807 with 0 missing, elapsed time: 6.814\n",
            "Imputing row 101/8807 with 0 missing, elapsed time: 6.815\n",
            "Imputing row 201/8807 with 0 missing, elapsed time: 6.815\n",
            "Imputing row 301/8807 with 0 missing, elapsed time: 6.816\n",
            "Imputing row 401/8807 with 0 missing, elapsed time: 6.816\n",
            "Imputing row 501/8807 with 0 missing, elapsed time: 6.817\n",
            "Imputing row 601/8807 with 0 missing, elapsed time: 6.817\n",
            "Imputing row 701/8807 with 0 missing, elapsed time: 6.818\n",
            "Imputing row 801/8807 with 0 missing, elapsed time: 6.819\n",
            "Imputing row 901/8807 with 0 missing, elapsed time: 6.819\n",
            "Imputing row 1001/8807 with 0 missing, elapsed time: 6.820\n",
            "Imputing row 1101/8807 with 0 missing, elapsed time: 6.820\n",
            "Imputing row 1201/8807 with 0 missing, elapsed time: 6.821\n",
            "Imputing row 1301/8807 with 0 missing, elapsed time: 6.821\n",
            "Imputing row 1401/8807 with 0 missing, elapsed time: 6.822\n",
            "Imputing row 1501/8807 with 0 missing, elapsed time: 6.822\n",
            "Imputing row 1601/8807 with 0 missing, elapsed time: 6.823\n",
            "Imputing row 1701/8807 with 0 missing, elapsed time: 6.823\n",
            "Imputing row 1801/8807 with 0 missing, elapsed time: 6.824\n",
            "Imputing row 1901/8807 with 0 missing, elapsed time: 6.824\n",
            "Imputing row 2001/8807 with 0 missing, elapsed time: 6.825\n",
            "Imputing row 2101/8807 with 0 missing, elapsed time: 6.826\n",
            "Imputing row 2201/8807 with 0 missing, elapsed time: 6.826\n",
            "Imputing row 2301/8807 with 0 missing, elapsed time: 6.827\n",
            "Imputing row 2401/8807 with 0 missing, elapsed time: 6.827\n",
            "Imputing row 2501/8807 with 0 missing, elapsed time: 6.827\n",
            "Imputing row 2601/8807 with 0 missing, elapsed time: 6.828\n",
            "Imputing row 2701/8807 with 0 missing, elapsed time: 6.828\n",
            "Imputing row 2801/8807 with 0 missing, elapsed time: 6.828\n",
            "Imputing row 2901/8807 with 0 missing, elapsed time: 6.829\n",
            "Imputing row 3001/8807 with 0 missing, elapsed time: 6.829\n",
            "Imputing row 3101/8807 with 0 missing, elapsed time: 6.829\n",
            "Imputing row 3201/8807 with 0 missing, elapsed time: 6.829\n",
            "Imputing row 3301/8807 with 0 missing, elapsed time: 6.830\n",
            "Imputing row 3401/8807 with 0 missing, elapsed time: 6.830\n",
            "Imputing row 3501/8807 with 0 missing, elapsed time: 6.830\n",
            "Imputing row 3601/8807 with 0 missing, elapsed time: 6.831\n",
            "Imputing row 3701/8807 with 0 missing, elapsed time: 6.831\n",
            "Imputing row 3801/8807 with 0 missing, elapsed time: 6.831\n",
            "Imputing row 3901/8807 with 0 missing, elapsed time: 6.832\n",
            "Imputing row 4001/8807 with 0 missing, elapsed time: 6.832\n",
            "Imputing row 4101/8807 with 0 missing, elapsed time: 6.832\n",
            "Imputing row 4201/8807 with 0 missing, elapsed time: 6.833\n",
            "Imputing row 4301/8807 with 0 missing, elapsed time: 6.833\n",
            "Imputing row 4401/8807 with 0 missing, elapsed time: 6.833\n",
            "Imputing row 4501/8807 with 0 missing, elapsed time: 6.834\n",
            "Imputing row 4601/8807 with 0 missing, elapsed time: 6.834\n",
            "Imputing row 4701/8807 with 0 missing, elapsed time: 6.834\n",
            "Imputing row 4801/8807 with 0 missing, elapsed time: 6.835\n",
            "Imputing row 4901/8807 with 0 missing, elapsed time: 6.835\n",
            "Imputing row 5001/8807 with 0 missing, elapsed time: 6.835\n",
            "Imputing row 5101/8807 with 0 missing, elapsed time: 6.835\n",
            "Imputing row 5201/8807 with 0 missing, elapsed time: 6.836\n",
            "Imputing row 5301/8807 with 0 missing, elapsed time: 6.836\n",
            "Imputing row 5401/8807 with 0 missing, elapsed time: 6.846\n",
            "Imputing row 5501/8807 with 0 missing, elapsed time: 6.847\n",
            "Imputing row 5601/8807 with 0 missing, elapsed time: 6.847\n",
            "Imputing row 5701/8807 with 0 missing, elapsed time: 6.847\n",
            "Imputing row 5801/8807 with 0 missing, elapsed time: 6.848\n",
            "Imputing row 5901/8807 with 0 missing, elapsed time: 6.848\n",
            "Imputing row 6001/8807 with 0 missing, elapsed time: 6.848\n",
            "Imputing row 6101/8807 with 0 missing, elapsed time: 6.849\n",
            "Imputing row 6201/8807 with 0 missing, elapsed time: 6.849\n",
            "Imputing row 6301/8807 with 0 missing, elapsed time: 6.849\n",
            "Imputing row 6401/8807 with 0 missing, elapsed time: 6.849\n",
            "Imputing row 6501/8807 with 0 missing, elapsed time: 6.850\n",
            "Imputing row 6601/8807 with 0 missing, elapsed time: 6.850\n",
            "Imputing row 6701/8807 with 0 missing, elapsed time: 6.850\n",
            "Imputing row 6801/8807 with 0 missing, elapsed time: 6.851\n",
            "Imputing row 6901/8807 with 0 missing, elapsed time: 6.851\n",
            "Imputing row 7001/8807 with 0 missing, elapsed time: 6.851\n",
            "Imputing row 7101/8807 with 0 missing, elapsed time: 6.852\n",
            "Imputing row 7201/8807 with 0 missing, elapsed time: 6.852\n",
            "Imputing row 7301/8807 with 0 missing, elapsed time: 6.852\n",
            "Imputing row 7401/8807 with 0 missing, elapsed time: 6.853\n",
            "Imputing row 7501/8807 with 0 missing, elapsed time: 6.853\n",
            "Imputing row 7601/8807 with 0 missing, elapsed time: 6.853\n",
            "Imputing row 7701/8807 with 0 missing, elapsed time: 6.854\n",
            "Imputing row 7801/8807 with 0 missing, elapsed time: 6.854\n",
            "Imputing row 7901/8807 with 0 missing, elapsed time: 6.854\n",
            "Imputing row 8001/8807 with 0 missing, elapsed time: 6.854\n",
            "Imputing row 8101/8807 with 0 missing, elapsed time: 6.855\n",
            "Imputing row 8201/8807 with 0 missing, elapsed time: 6.855\n",
            "Imputing row 8301/8807 with 0 missing, elapsed time: 6.855\n",
            "Imputing row 8401/8807 with 0 missing, elapsed time: 6.856\n",
            "Imputing row 8501/8807 with 0 missing, elapsed time: 6.856\n",
            "Imputing row 8601/8807 with 0 missing, elapsed time: 6.856\n",
            "Imputing row 8701/8807 with 0 missing, elapsed time: 6.857\n",
            "Imputing row 8801/8807 with 0 missing, elapsed time: 6.857\n",
            "[KNN] Warning: 10/8807 still missing after imputation, replacing with 0\n",
            "release_year       0\n",
            "show_id            0\n",
            "type               0\n",
            "title              0\n",
            "director        2634\n",
            "cast             825\n",
            "country          831\n",
            "date_added        10\n",
            "rating             4\n",
            "duration           3\n",
            "listed_in          0\n",
            "description        0\n",
            "dtype: int64\n"
          ]
        }
      ]
    },
    {
      "cell_type": "code",
      "source": [
        "print(netflix_imputed_df.head())\n"
      ],
      "metadata": {
        "colab": {
          "base_uri": "https://localhost:8080/"
        },
        "id": "5dyxarastLaa",
        "outputId": "95af2272-127a-44c2-ce77-82884f425d66"
      },
      "execution_count": null,
      "outputs": [
        {
          "output_type": "stream",
          "name": "stdout",
          "text": [
            "   show_id  type   title  director    cast  country  date_added  release_year  \\\n",
            "0      0.0   0.0  1973.0    2295.0  7677.0    603.0      1711.0        2020.0   \n",
            "1   1111.0   1.0  1089.0    4516.0   409.0    426.0      1706.0        2021.0   \n",
            "2   2222.0   1.0  2648.0    2105.0  6296.0    748.0      1706.0        2021.0   \n",
            "3   3333.0   1.0  3503.0    4516.0  7677.0    748.0      1706.0        2021.0   \n",
            "4   4444.0   1.0  3858.0    4516.0  4815.0    251.0      1706.0        2021.0   \n",
            "\n",
            "   rating  duration  listed_in  description  \n",
            "0     7.0     210.0      274.0       2577.0  \n",
            "1    11.0     110.0      414.0       1762.0  \n",
            "2    11.0       0.0      242.0       7341.0  \n",
            "3    11.0       0.0      297.0       3617.0  \n",
            "4    11.0     110.0      393.0       4416.0  \n"
          ]
        }
      ]
    },
    {
      "cell_type": "code",
      "source": [
        "!pip install fancyimpute # Install the library\n",
        "\n",
        "import pandas as pd\n",
        "from sklearn.preprocessing import LabelEncoder\n",
        "from fancyimpute import KNN\n",
        "\n",
        "# Load the dataset\n",
        "netflix_df = pd.read_csv(\"/netflix tv shows and movies.csv\")\n",
        "\n",
        "# Convert categorical variables to numerical\n",
        "cat_cols = netflix_df.select_dtypes(include=['object']).columns\n",
        "for col in cat_cols:\n",
        "    netflix_df[col] = LabelEncoder().fit_transform(netflix_df[col].astype(str))\n",
        "\n",
        "# Perform KNN imputation on all columns\n",
        "netflix_imputed = KNN(k=5).fit_transform(netflix_df)\n",
        "\n",
        "# Convert the imputed array back to a dataframe\n",
        "netflix_imputed_df = pd.DataFrame(netflix_imputed, columns=netflix_df.columns)\n",
        "\n",
        "# Check for missing values in the imputed dataframe\n",
        "print(netflix_imputed_df.isnull().sum())\n"
      ],
      "metadata": {
        "colab": {
          "base_uri": "https://localhost:8080/"
        },
        "id": "ConLgY4NnWu4",
        "outputId": "db70e1f3-ced1-4a30-9b6b-cd98d3ae09ef"
      },
      "execution_count": null,
      "outputs": [
        {
          "output_type": "stream",
          "name": "stdout",
          "text": [
            "Looking in indexes: https://pypi.org/simple, https://us-python.pkg.dev/colab-wheels/public/simple/\n",
            "Requirement already satisfied: fancyimpute in /usr/local/lib/python3.9/dist-packages (0.7.0)\n",
            "Requirement already satisfied: knnimpute>=0.1.0 in /usr/local/lib/python3.9/dist-packages (from fancyimpute) (0.1.0)\n",
            "Requirement already satisfied: nose in /usr/local/lib/python3.9/dist-packages (from fancyimpute) (1.3.7)\n",
            "Requirement already satisfied: cvxpy in /usr/local/lib/python3.9/dist-packages (from fancyimpute) (1.2.3)\n",
            "Requirement already satisfied: cvxopt in /usr/local/lib/python3.9/dist-packages (from fancyimpute) (1.3.0)\n",
            "Requirement already satisfied: scikit-learn>=0.24.2 in /usr/local/lib/python3.9/dist-packages (from fancyimpute) (1.2.1)\n",
            "Requirement already satisfied: pytest in /usr/local/lib/python3.9/dist-packages (from fancyimpute) (3.6.4)\n",
            "Requirement already satisfied: six in /usr/local/lib/python3.9/dist-packages (from knnimpute>=0.1.0->fancyimpute) (1.15.0)\n",
            "Requirement already satisfied: numpy>=1.10 in /usr/local/lib/python3.9/dist-packages (from knnimpute>=0.1.0->fancyimpute) (1.22.4)\n",
            "Requirement already satisfied: joblib>=1.1.1 in /usr/local/lib/python3.9/dist-packages (from scikit-learn>=0.24.2->fancyimpute) (1.2.0)\n",
            "Requirement already satisfied: scipy>=1.3.2 in /usr/local/lib/python3.9/dist-packages (from scikit-learn>=0.24.2->fancyimpute) (1.10.1)\n",
            "Requirement already satisfied: threadpoolctl>=2.0.0 in /usr/local/lib/python3.9/dist-packages (from scikit-learn>=0.24.2->fancyimpute) (3.1.0)\n",
            "Requirement already satisfied: setuptools<=64.0.2 in /usr/local/lib/python3.9/dist-packages (from cvxpy->fancyimpute) (57.4.0)\n",
            "Requirement already satisfied: ecos>=2 in /usr/local/lib/python3.9/dist-packages (from cvxpy->fancyimpute) (2.0.12)\n",
            "Requirement already satisfied: osqp>=0.4.1 in /usr/local/lib/python3.9/dist-packages (from cvxpy->fancyimpute) (0.6.2.post0)\n",
            "Requirement already satisfied: scs>=1.1.6 in /usr/local/lib/python3.9/dist-packages (from cvxpy->fancyimpute) (3.2.2)\n",
            "Requirement already satisfied: pluggy<0.8,>=0.5 in /usr/local/lib/python3.9/dist-packages (from pytest->fancyimpute) (0.7.1)\n",
            "Requirement already satisfied: atomicwrites>=1.0 in /usr/local/lib/python3.9/dist-packages (from pytest->fancyimpute) (1.4.1)\n",
            "Requirement already satisfied: more-itertools>=4.0.0 in /usr/local/lib/python3.9/dist-packages (from pytest->fancyimpute) (9.1.0)\n",
            "Requirement already satisfied: attrs>=17.4.0 in /usr/local/lib/python3.9/dist-packages (from pytest->fancyimpute) (22.2.0)\n",
            "Requirement already satisfied: py>=1.5.0 in /usr/local/lib/python3.9/dist-packages (from pytest->fancyimpute) (1.11.0)\n",
            "Requirement already satisfied: qdldl in /usr/local/lib/python3.9/dist-packages (from osqp>=0.4.1->cvxpy->fancyimpute) (0.1.5.post3)\n",
            "Imputing row 1/8807 with 0 missing, elapsed time: 14.376\n",
            "Imputing row 101/8807 with 0 missing, elapsed time: 14.378\n",
            "Imputing row 201/8807 with 0 missing, elapsed time: 14.379\n",
            "Imputing row 301/8807 with 0 missing, elapsed time: 14.380\n",
            "Imputing row 401/8807 with 0 missing, elapsed time: 14.381\n",
            "Imputing row 501/8807 with 0 missing, elapsed time: 14.381\n",
            "Imputing row 601/8807 with 0 missing, elapsed time: 14.383\n",
            "Imputing row 701/8807 with 0 missing, elapsed time: 14.383\n",
            "Imputing row 801/8807 with 0 missing, elapsed time: 14.383\n",
            "Imputing row 901/8807 with 0 missing, elapsed time: 14.384\n",
            "Imputing row 1001/8807 with 0 missing, elapsed time: 14.384\n",
            "Imputing row 1101/8807 with 0 missing, elapsed time: 14.384\n",
            "Imputing row 1201/8807 with 0 missing, elapsed time: 14.384\n",
            "Imputing row 1301/8807 with 0 missing, elapsed time: 14.385\n",
            "Imputing row 1401/8807 with 0 missing, elapsed time: 14.385\n",
            "Imputing row 1501/8807 with 0 missing, elapsed time: 14.385\n",
            "Imputing row 1601/8807 with 0 missing, elapsed time: 14.386\n",
            "Imputing row 1701/8807 with 0 missing, elapsed time: 14.386\n",
            "Imputing row 1801/8807 with 0 missing, elapsed time: 14.386\n",
            "Imputing row 1901/8807 with 0 missing, elapsed time: 14.387\n",
            "Imputing row 2001/8807 with 0 missing, elapsed time: 14.392\n",
            "Imputing row 2101/8807 with 0 missing, elapsed time: 14.392\n",
            "Imputing row 2201/8807 with 0 missing, elapsed time: 14.392\n",
            "Imputing row 2301/8807 with 0 missing, elapsed time: 14.393\n",
            "Imputing row 2401/8807 with 0 missing, elapsed time: 14.393\n",
            "Imputing row 2501/8807 with 0 missing, elapsed time: 14.393\n",
            "Imputing row 2601/8807 with 0 missing, elapsed time: 14.393\n",
            "Imputing row 2701/8807 with 0 missing, elapsed time: 14.394\n",
            "Imputing row 2801/8807 with 0 missing, elapsed time: 14.394\n",
            "Imputing row 2901/8807 with 0 missing, elapsed time: 14.394\n",
            "Imputing row 3001/8807 with 0 missing, elapsed time: 14.395\n",
            "Imputing row 3101/8807 with 0 missing, elapsed time: 14.395\n",
            "Imputing row 3201/8807 with 0 missing, elapsed time: 14.396\n",
            "Imputing row 3301/8807 with 0 missing, elapsed time: 14.396\n",
            "Imputing row 3401/8807 with 0 missing, elapsed time: 14.396\n",
            "Imputing row 3501/8807 with 0 missing, elapsed time: 14.397\n",
            "Imputing row 3601/8807 with 0 missing, elapsed time: 14.397\n",
            "Imputing row 3701/8807 with 0 missing, elapsed time: 14.397\n",
            "Imputing row 3801/8807 with 0 missing, elapsed time: 14.398\n",
            "Imputing row 3901/8807 with 0 missing, elapsed time: 14.398\n",
            "Imputing row 4001/8807 with 0 missing, elapsed time: 14.398\n",
            "Imputing row 4101/8807 with 0 missing, elapsed time: 14.399\n",
            "Imputing row 4201/8807 with 0 missing, elapsed time: 14.399\n",
            "Imputing row 4301/8807 with 0 missing, elapsed time: 14.399\n",
            "Imputing row 4401/8807 with 0 missing, elapsed time: 14.400\n",
            "Imputing row 4501/8807 with 0 missing, elapsed time: 14.400\n",
            "Imputing row 4601/8807 with 0 missing, elapsed time: 14.400\n",
            "Imputing row 4701/8807 with 0 missing, elapsed time: 14.401\n",
            "Imputing row 4801/8807 with 0 missing, elapsed time: 14.401\n",
            "Imputing row 4901/8807 with 0 missing, elapsed time: 14.411\n",
            "Imputing row 5001/8807 with 0 missing, elapsed time: 14.412\n",
            "Imputing row 5101/8807 with 0 missing, elapsed time: 14.412\n",
            "Imputing row 5201/8807 with 0 missing, elapsed time: 14.412\n",
            "Imputing row 5301/8807 with 0 missing, elapsed time: 14.412\n",
            "Imputing row 5401/8807 with 0 missing, elapsed time: 14.413\n",
            "Imputing row 5501/8807 with 0 missing, elapsed time: 14.413\n",
            "Imputing row 5601/8807 with 0 missing, elapsed time: 14.413\n",
            "Imputing row 5701/8807 with 0 missing, elapsed time: 14.414\n",
            "Imputing row 5801/8807 with 0 missing, elapsed time: 14.414\n",
            "Imputing row 5901/8807 with 0 missing, elapsed time: 14.417\n",
            "Imputing row 6001/8807 with 0 missing, elapsed time: 14.418\n",
            "Imputing row 6101/8807 with 0 missing, elapsed time: 14.418\n",
            "Imputing row 6201/8807 with 0 missing, elapsed time: 14.418\n",
            "Imputing row 6301/8807 with 0 missing, elapsed time: 14.419\n",
            "Imputing row 6401/8807 with 0 missing, elapsed time: 14.419\n",
            "Imputing row 6501/8807 with 0 missing, elapsed time: 14.419\n",
            "Imputing row 6601/8807 with 0 missing, elapsed time: 14.420\n",
            "Imputing row 6701/8807 with 0 missing, elapsed time: 14.423\n",
            "Imputing row 6801/8807 with 0 missing, elapsed time: 14.423\n",
            "Imputing row 6901/8807 with 0 missing, elapsed time: 14.423\n",
            "Imputing row 7001/8807 with 0 missing, elapsed time: 14.424\n",
            "Imputing row 7101/8807 with 0 missing, elapsed time: 14.424\n",
            "Imputing row 7201/8807 with 0 missing, elapsed time: 14.424\n",
            "Imputing row 7301/8807 with 0 missing, elapsed time: 14.425\n",
            "Imputing row 7401/8807 with 0 missing, elapsed time: 14.425\n",
            "Imputing row 7501/8807 with 0 missing, elapsed time: 14.425\n",
            "Imputing row 7601/8807 with 0 missing, elapsed time: 14.426\n",
            "Imputing row 7701/8807 with 0 missing, elapsed time: 14.426\n",
            "Imputing row 7801/8807 with 0 missing, elapsed time: 14.427\n",
            "Imputing row 7901/8807 with 0 missing, elapsed time: 14.427\n",
            "Imputing row 8001/8807 with 0 missing, elapsed time: 14.428\n",
            "Imputing row 8101/8807 with 0 missing, elapsed time: 14.428\n",
            "Imputing row 8201/8807 with 0 missing, elapsed time: 14.428\n",
            "Imputing row 8301/8807 with 0 missing, elapsed time: 14.429\n",
            "Imputing row 8401/8807 with 0 missing, elapsed time: 14.429\n",
            "Imputing row 8501/8807 with 0 missing, elapsed time: 14.429\n",
            "Imputing row 8601/8807 with 0 missing, elapsed time: 14.430\n",
            "Imputing row 8701/8807 with 0 missing, elapsed time: 14.438\n",
            "Imputing row 8801/8807 with 0 missing, elapsed time: 14.439\n",
            "show_id         0\n",
            "type            0\n",
            "title           0\n",
            "director        0\n",
            "cast            0\n",
            "country         0\n",
            "date_added      0\n",
            "release_year    0\n",
            "rating          0\n",
            "duration        0\n",
            "listed_in       0\n",
            "description     0\n",
            "dtype: int64\n"
          ]
        }
      ]
    },
    {
      "cell_type": "code",
      "source": [
        "print(netflix_imputed_df)\n"
      ],
      "metadata": {
        "colab": {
          "base_uri": "https://localhost:8080/"
        },
        "id": "xmsXA84ot1TL",
        "outputId": "f4687e9a-f73b-4fab-85ed-dbf6c7c43bae"
      },
      "execution_count": null,
      "outputs": [
        {
          "output_type": "stream",
          "name": "stdout",
          "text": [
            "      show_id  type   title  director    cast  country  date_added  \\\n",
            "0         0.0   0.0  1973.0    2295.0  7677.0    603.0      1711.0   \n",
            "1      1111.0   1.0  1089.0    4516.0   409.0    426.0      1706.0   \n",
            "2      2222.0   1.0  2648.0    2105.0  6296.0    748.0      1706.0   \n",
            "3      3333.0   1.0  3503.0    4516.0  7677.0    748.0      1706.0   \n",
            "4      4444.0   1.0  3858.0    4516.0  4815.0    251.0      1706.0   \n",
            "...       ...   ...     ...       ...     ...      ...         ...   \n",
            "8802   8671.0   0.0  8767.0     979.0  4677.0    603.0      1419.0   \n",
            "8803   8672.0   1.0  8770.0    4516.0  7677.0    748.0       788.0   \n",
            "8804   8673.0   0.0  8771.0    3631.0  3231.0    603.0      1366.0   \n",
            "8805   8674.0   0.0  8774.0    3247.0  7061.0    603.0       665.0   \n",
            "8806   8675.0   0.0  8778.0    2926.0  7297.0    251.0      1127.0   \n",
            "\n",
            "      release_year  rating  duration  listed_in  description  \n",
            "0           2020.0     7.0     210.0      274.0       2577.0  \n",
            "1           2021.0    11.0     110.0      414.0       1762.0  \n",
            "2           2021.0    11.0       0.0      242.0       7341.0  \n",
            "3           2021.0    11.0       0.0      297.0       3617.0  \n",
            "4           2021.0    11.0     110.0      393.0       4416.0  \n",
            "...            ...     ...       ...        ...          ...  \n",
            "8802        2007.0     8.0      70.0      269.0        895.0  \n",
            "8803        2018.0    14.0     110.0      424.0       8483.0  \n",
            "8804        2009.0     8.0     206.0      207.0       5228.0  \n",
            "8805        2006.0     6.0     206.0      125.0       3315.0  \n",
            "8806        2015.0     9.0      16.0      328.0       1004.0  \n",
            "\n",
            "[8807 rows x 12 columns]\n"
          ]
        }
      ]
    },
    {
      "cell_type": "code",
      "source": [
        "import pandas as pd\n",
        "from sklearn.cluster import KMeans\n",
        "from sklearn.preprocessing import StandardScaler\n",
        "import matplotlib.pyplot as plt\n",
        "\n",
        "# Load the data into a pandas dataframe\n",
        "netflix_data = pd.read_csv('/netflix tv shows and movies.csv')\n",
        "\n",
        "# Select the numerical features for clustering\n",
        "numeric_cols = ['release_year']\n",
        "numeric_data = netflix_data[numeric_cols]\n",
        "\n",
        "# Replace missing values with the mean of the respective column\n",
        "numeric_data.fillna(numeric_data.mean(), inplace=True)\n",
        "\n",
        "# Scale the numerical data\n",
        "scaler = StandardScaler()\n",
        "scaled_data = scaler.fit_transform(numeric_data)\n",
        "\n",
        "# Perform KMeans clustering\n",
        "kmeans = KMeans(n_clusters=4, random_state=0)\n",
        "kmeans.fit(scaled_data)\n",
        "\n",
        "# Plot the results\n",
        "plt.scatter(scaled_data[:, 0], [0] * len(scaled_data), c=kmeans.labels_)\n",
        "plt.scatter(kmeans.cluster_centers_[:, 0], [0] * len(kmeans.cluster_centers_), marker='x', s=200, linewidths=3, color='r')\n",
        "plt.title('KMeans Clustering Results')\n",
        "plt.xlabel('Release Year (Scaled)')\n",
        "plt.show()\n"
      ],
      "metadata": {
        "colab": {
          "base_uri": "https://localhost:8080/",
          "height": 436
        },
        "id": "dHqRpqKmOBTy",
        "outputId": "539143e0-2541-48e1-b05f-48b1522f239d"
      },
      "execution_count": null,
      "outputs": [
        {
          "output_type": "stream",
          "name": "stderr",
          "text": [
            "/usr/local/lib/python3.9/dist-packages/pandas/core/generic.py:6392: SettingWithCopyWarning: \n",
            "A value is trying to be set on a copy of a slice from a DataFrame\n",
            "\n",
            "See the caveats in the documentation: https://pandas.pydata.org/pandas-docs/stable/user_guide/indexing.html#returning-a-view-versus-a-copy\n",
            "  return self._update_inplace(result)\n",
            "/usr/local/lib/python3.9/dist-packages/sklearn/cluster/_kmeans.py:870: FutureWarning: The default value of `n_init` will change from 10 to 'auto' in 1.4. Set the value of `n_init` explicitly to suppress the warning\n",
            "  warnings.warn(\n"
          ]
        },
        {
          "output_type": "display_data",
          "data": {
            "text/plain": [
              "<Figure size 432x288 with 1 Axes>"
            ],
            "image/png": "[encoded data removed]"
          },
          "metadata": {
            "needs_background": "light"
          }
        }
      ]
    },
    {
      "cell_type": "code",
      "source": [
        "import pandas as pd\n",
        "import matplotlib.pyplot as plt\n",
        "from sklearn.cluster import KMeans\n",
        "from sklearn.preprocessing import StandardScaler\n",
        "\n",
        "# Load the data into a pandas dataframe\n",
        "netflix_data = pd.read_csv('/netflix tv shows and movies.csv')\n",
        "\n",
        "# Select the numerical features for clustering\n",
        "numeric_cols = ['release_year']\n",
        "numeric_data = netflix_data[numeric_cols]\n",
        "\n",
        "# Replace missing values with the mean of the respective column\n",
        "numeric_data.fillna(numeric_data.mean(), inplace=True)\n",
        "\n",
        "# Scale the numerical data\n",
        "scaler = StandardScaler()\n",
        "scaled_data = scaler.fit_transform(numeric_data)\n",
        "\n",
        "# Perform KMeans clustering\n",
        "kmeans = KMeans(n_clusters=4, random_state=0)\n",
        "kmeans.fit(scaled_data)\n",
        "\n",
        "# Plot the clusters\n",
        "plt.scatter(scaled_data[:, 0], [0] * len(scaled_data), c=kmeans.labels_)\n",
        "plt.scatter(kmeans.cluster_centers_[:, 0], [0] * len(kmeans.cluster_centers_), s=200, marker='X', c='black')\n",
        "plt.title('Netflix Titles Release Year Clusters')\n",
        "plt.xlabel('Release Year')\n",
        "plt.yticks([])\n",
        "plt.show()\n"
      ],
      "metadata": {
        "colab": {
          "base_uri": "https://localhost:8080/",
          "height": 436
        },
        "id": "FYHL6HCKOIum",
        "outputId": "c7682f49-483e-4704-de9e-3534fa45ff07"
      },
      "execution_count": null,
      "outputs": [
        {
          "output_type": "stream",
          "name": "stderr",
          "text": [
            "/usr/local/lib/python3.9/dist-packages/pandas/core/generic.py:6392: SettingWithCopyWarning: \n",
            "A value is trying to be set on a copy of a slice from a DataFrame\n",
            "\n",
            "See the caveats in the documentation: https://pandas.pydata.org/pandas-docs/stable/user_guide/indexing.html#returning-a-view-versus-a-copy\n",
            "  return self._update_inplace(result)\n",
            "/usr/local/lib/python3.9/dist-packages/sklearn/cluster/_kmeans.py:870: FutureWarning: The default value of `n_init` will change from 10 to 'auto' in 1.4. Set the value of `n_init` explicitly to suppress the warning\n",
            "  warnings.warn(\n"
          ]
        },
        {
          "output_type": "display_data",
          "data": {
            "text/plain": [
              "<Figure size 432x288 with 1 Axes>"
            ],
            "image/png": "[encoded data removed]"
          },
          "metadata": {
            "needs_background": "light"
          }
        }
      ]
    },
    {
      "cell_type": "code",
      "source": [
        "import pandas as pd\n",
        "import numpy as np\n",
        "import matplotlib.pyplot as plt\n",
        "from sklearn.cluster import DBSCAN\n",
        "from sklearn.preprocessing import StandardScaler\n",
        "\n",
        "# Load the data into a pandas dataframe\n",
        "netflix_data = pd.read_csv('/netflix tv shows and movies.csv')\n",
        "\n",
        "# Select the numerical features for clustering\n",
        "numeric_cols = ['release_year']\n",
        "numeric_data = netflix_data[numeric_cols]\n",
        "\n",
        "# Replace missing values with the mean of the respective column\n",
        "numeric_data.fillna(numeric_data.mean(), inplace=True)\n",
        "\n",
        "# Scale the numerical data\n",
        "scaler = StandardScaler()\n",
        "scaled_data = scaler.fit_transform(numeric_data)\n",
        "\n",
        "# Perform DBSCAN clustering\n",
        "dbscan = DBSCAN(eps=0.3, min_samples=5)\n",
        "dbscan.fit(scaled_data)\n",
        "\n",
        "# Print the count of movies in each cluster\n",
        "print(pd.Series(dbscan.labels_).value_counts())\n",
        "\n",
        "# Plot the clusters\n",
        "plt.figure(figsize=(8, 6))\n",
        "plt.scatter(scaled_data[:, 0], np.zeros_like(scaled_data[:, 0]), c=dbscan.labels_, cmap='viridis')\n",
        "plt.title('DBSCAN Clustering Results')\n",
        "plt.xlabel('Release Year')\n",
        "plt.show()\n"
      ],
      "metadata": {
        "colab": {
          "base_uri": "https://localhost:8080/",
          "height": 580
        },
        "id": "0WnI6ezfOeTi",
        "outputId": "40472725-9b28-45e7-97a2-95cb2cedf0b1"
      },
      "execution_count": null,
      "outputs": [
        {
          "output_type": "stream",
          "name": "stderr",
          "text": [
            "/usr/local/lib/python3.9/dist-packages/pandas/core/generic.py:6392: SettingWithCopyWarning: \n",
            "A value is trying to be set on a copy of a slice from a DataFrame\n",
            "\n",
            "See the caveats in the documentation: https://pandas.pydata.org/pandas-docs/stable/user_guide/indexing.html#returning-a-view-versus-a-copy\n",
            "  return self._update_inplace(result)\n"
          ]
        },
        {
          "output_type": "stream",
          "name": "stdout",
          "text": [
            " 0    8791\n",
            " 1      15\n",
            "-1       1\n",
            "dtype: int64\n"
          ]
        },
        {
          "output_type": "display_data",
          "data": {
            "text/plain": [
              "<Figure size 576x432 with 1 Axes>"
            ],
            "image/png": "[encoded data removed]"
          },
          "metadata": {
            "needs_background": "light"
          }
        }
      ]
    },
    {
      "cell_type": "code",
      "source": [
        "import pandas as pd\n",
        "from sklearn.neighbors import LocalOutlierFactor\n",
        "from sklearn.preprocessing import StandardScaler\n",
        "import matplotlib.pyplot as plt\n",
        "# Load the data into a pandas dataframe\n",
        "netflix_data = pd.read_csv('/netflix tv shows and movies.csv')\n",
        "\n",
        "# Select the numerical features for clustering\n",
        "numeric_cols = ['release_year']\n",
        "numeric_data = netflix_data[numeric_cols]\n",
        "\n",
        "# Replace missing values with the mean of the respective column\n",
        "numeric_data.fillna(numeric_data.mean(), inplace=True)\n",
        "\n",
        "# Scale the numerical data\n",
        "scaler = StandardScaler()\n",
        "scaled_data = scaler.fit_transform(numeric_data)\n",
        "\n",
        "# Perform Local Outlier Factor (LOF) detection\n",
        "lof = LocalOutlierFactor(n_neighbors=20, contamination='auto')\n",
        "outlier_scores = lof.fit_predict(scaled_data)\n",
        "\n",
        "# Plot the data points with colors representing their LOF scores\n",
        "plt.scatter(scaled_data[:, 0], [0] * len(scaled_data), c=-lof.negative_outlier_factor_, cmap='coolwarm')\n",
        "plt.colorbar()\n",
        "plt.title(\"Local Outlier Factor (LOF)\")\n",
        "plt.show()\n"
      ],
      "metadata": {
        "colab": {
          "base_uri": "https://localhost:8080/",
          "height": 388
        },
        "id": "99tQskQgQW0-",
        "outputId": "c0a55b85-4102-4913-fde2-fc17e55c1265"
      },
      "execution_count": null,
      "outputs": [
        {
          "output_type": "stream",
          "name": "stderr",
          "text": [
            "/usr/local/lib/python3.9/dist-packages/pandas/core/generic.py:6392: SettingWithCopyWarning: \n",
            "A value is trying to be set on a copy of a slice from a DataFrame\n",
            "\n",
            "See the caveats in the documentation: https://pandas.pydata.org/pandas-docs/stable/user_guide/indexing.html#returning-a-view-versus-a-copy\n",
            "  return self._update_inplace(result)\n"
          ]
        },
        {
          "output_type": "display_data",
          "data": {
            "text/plain": [
              "<Figure size 432x288 with 2 Axes>"
            ],
            "image/png": "[encoded data removed]"
          },
          "metadata": {
            "needs_background": "light"
          }
        }
      ]
    },
    {
      "cell_type": "code",
      "source": [],
      "metadata": {
        "id": "oilP_3M9VzWN"
      },
      "execution_count": null,
      "outputs": []
    }
  ]
}