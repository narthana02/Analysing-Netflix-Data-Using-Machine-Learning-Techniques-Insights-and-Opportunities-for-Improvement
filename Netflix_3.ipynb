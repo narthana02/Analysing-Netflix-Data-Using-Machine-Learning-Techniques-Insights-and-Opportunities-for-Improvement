{
  "nbformat": 4,
  "nbformat_minor": 0,
  "metadata": {
    "colab": {
      "provenance": []
    },
    "kernelspec": {
      "name": "python3",
      "display_name": "Python 3"
    },
    "language_info": {
      "name": "python"
    }
  },
  "cells": [
    {
      "cell_type": "code",
      "source": [
        "import pandas as pd\n",
        "import numpy as np\n",
        "import matplotlib.pyplot as plt\n",
        "from sklearn.ensemble import RandomForestClassifier\n",
        "\n",
        "# Load the dataset\n",
        "data = pd.read_csv(\"/content/netflix_titles.csv\")\n",
        "\n",
        "# Separate the input variables and the output variable\n",
        "X = data.drop('description', axis=1)\n",
        "y = data['description']\n",
        "\n",
        "# Train a random forest classifier to obtain feature importances\n",
        "rfc = RandomForestClassifier(n_estimators=100, random_state=42)\n",
        "rfc.fit(X, y)\n",
        "\n",
        "# Get the feature importances\n",
        "importances = rfc.feature_importances_\n",
        "\n",
        "# Sort the features by their importance score\n",
        "indices = np.argsort(importances)[::-1]\n",
        "selected_features = X.columns[indices[:5]]\n",
        "selected_importances = importances[indices[:5]]\n",
        "\n",
        "# Plot the feature importances for the selected features\n",
        "plt.bar(range(len(selected_features)), selected_importances, align='center')\n",
        "plt.xticks(range(len(selected_features)), selected_features, rotation=90)\n",
        "plt.xlabel('Feature')\n",
        "plt.ylabel('Importance')\n",
        "plt.show()\n"
      ],
      "metadata": {
        "colab": {
          "base_uri": "https://localhost:8080/",
          "height": 524
        },
        "id": "35PF3bGqNoxm",
        "outputId": "1fe93df8-7d3a-4759-8ba2-cdbeaf38f0fb"
      },
      "execution_count": null,
      "outputs": [
        {
          "output_type": "display_data",
          "data": {
            "text/plain": [
              "<Figure size 640x480 with 1 Axes>"
            ],
            "image/png": "[encoded data removed]"
          },
          "metadata": {}
        }
      ]
    },
    {
      "cell_type": "markdown",
      "source": [
        "In this code, we first train a random forest classifier using the entire dataset. Then we extract the feature importances from the trained classifier using the feature_importances_ attribute. We sort the features by their importance score and select the top 5 features. Finally, we plot the feature importances for the selected features using a bar chart."
      ],
      "metadata": {
        "id": "feGOhip-OtTp"
      }
    },
    {
      "cell_type": "code",
      "source": [
        "import pandas as pd\n",
        "import numpy as np\n",
        "from sklearn.ensemble import RandomForestClassifier\n",
        "\n",
        "# Load the dataset\n",
        "data = pd.read_csv(\"/content/netflix_titles.csv\")\n",
        "\n",
        "# Separate the input variables and the output variable\n",
        "X = data.drop('description', axis=1)\n",
        "y = data['description']\n",
        "\n",
        "# Train a random forest classifier to obtain feature importances\n",
        "rfc = RandomForestClassifier(n_estimators=100, random_state=42)\n",
        "rfc.fit(X, y)\n",
        "\n",
        "# Get the feature importances\n",
        "importances = rfc.feature_importances_\n",
        "\n",
        "# Sort the features by their importance score\n",
        "indices = np.argsort(importances)[::-1]\n",
        "selected_features = X.columns[indices[:5]]\n",
        "\n",
        "# Print the selected features\n",
        "print(\"Top 5 features selected by random forest:\")\n",
        "for feature in selected_features:\n",
        "    print(\"- \" + feature)\n"
      ],
      "metadata": {
        "colab": {
          "base_uri": "https://localhost:8080/"
        },
        "id": "WFdnt3AZN4YN",
        "outputId": "5f41373e-c25a-44d5-f651-67adb9f73428"
      },
      "execution_count": null,
      "outputs": [
        {
          "output_type": "stream",
          "name": "stdout",
          "text": [
            "Top 5 features selected by random forest:\n",
            "- listed_in\n",
            "- duration\n",
            "- date_added\n",
            "- type\n",
            "- release_year\n"
          ]
        }
      ]
    },
    {
      "cell_type": "markdown",
      "source": [
        "In this code, we perform the same steps as before to train a random forest classifier and extract the feature importances. We then sort the features by their importance score and select the top 5 features. Finally, we print the selected features using a for loop."
      ],
      "metadata": {
        "id": "DJJGHV5fOvyD"
      }
    },
    {
      "cell_type": "code",
      "source": [
        "import pandas as pd\n",
        "from sklearn.decomposition import PCA\n",
        "from sklearn.preprocessing import StandardScaler\n",
        "\n",
        "# Load the dataset\n",
        "data = pd.read_csv(\"/content/netflix_titles.csv\")\n",
        "\n",
        "# Separate the input variables and the output variable\n",
        "X = data.drop('description', axis=1)\n",
        "y = data['description']\n",
        "\n",
        "# Standardize the input variables\n",
        "scaler = StandardScaler()\n",
        "X_std = scaler.fit_transform(X)\n",
        "\n",
        "# Perform PCA with 5 components\n",
        "pca = PCA(n_components=5)\n",
        "X_pca = pca.fit_transform(X_std)\n",
        "\n",
        "# Print the explained variance ratio of each component\n",
        "print(\"Explained variance ratio:\")\n",
        "print(pca.explained_variance_ratio_)\n",
        "\n",
        "# Print the transformed data with reduced dimensions\n",
        "print(\"Transformed data with reduced dimensions:\")\n",
        "print(X_pca)\n"
      ],
      "metadata": {
        "colab": {
          "base_uri": "https://localhost:8080/"
        },
        "id": "PxufBK0eNwHf",
        "outputId": "c21df181-1bf3-460b-be7b-05cf490f953b"
      },
      "execution_count": null,
      "outputs": [
        {
          "output_type": "stream",
          "name": "stdout",
          "text": [
            "Explained variance ratio:\n",
            "[0.28173931 0.1750827  0.1409585  0.11029387 0.08720837]\n",
            "Transformed data with reduced dimensions:\n",
            "[[-1.61952988  0.45095009 -1.77445415  0.04374031  0.06701448]\n",
            " [-0.79916993  1.85655306 -0.91169017  0.54806597 -0.01839156]\n",
            " [-0.74847909  0.88203886 -1.17139423  0.41102067 -0.04353101]\n",
            " ...\n",
            " [-1.45612897  0.31174559  1.12423941  0.49187676  0.19371564]\n",
            " [-2.27051793  0.97979111  0.62796456  0.63977007  0.06773549]\n",
            " [-0.42697475 -0.53669021  1.6289552  -0.39171595  0.45048209]]\n"
          ]
        }
      ]
    },
    {
      "cell_type": "markdown",
      "source": [
        "In this code, we first load the dataset and separate the input variables and the output variable as before. We then standardize the input variables using StandardScaler to ensure that they all have the same scale.\n",
        "\n",
        "Next, we perform PCA with 5 components using the PCA class from scikit-learn. The transformed data with reduced dimensions is stored in X_pca. We can print the explained variance ratio of each component using the explained_variance_ratio_ attribute of the PCA object. Finally, we print the transformed data with reduced dimensions."
      ],
      "metadata": {
        "id": "QOUQlQJOOzfz"
      }
    },
    {
      "cell_type": "code",
      "source": [
        "import pandas as pd\n",
        "from sklearn.decomposition import PCA\n",
        "from sklearn.preprocessing import StandardScaler\n",
        "import matplotlib.pyplot as plt\n",
        "\n",
        "# Load the dataset\n",
        "data = pd.read_csv(\"/content/netflix_titles.csv\")\n",
        "\n",
        "# Separate the input variables and the output variable\n",
        "X = data.drop('description', axis=1)\n",
        "y = data['description']\n",
        "\n",
        "# Standardize the input variables\n",
        "scaler = StandardScaler()\n",
        "X_std = scaler.fit_transform(X)\n",
        "\n",
        "# Perform PCA with 5 components\n",
        "pca = PCA(n_components=5)\n",
        "X_pca = pca.fit_transform(X_std)\n",
        "\n",
        "# Plot the explained variance ratio of each component\n",
        "plt.bar(range(1, 6), pca.explained_variance_ratio_)\n",
        "plt.xlabel('Principal Component')\n",
        "plt.ylabel('Explained Variance Ratio')\n",
        "plt.xticks(range(1, 6))\n",
        "plt.show()\n"
      ],
      "metadata": {
        "colab": {
          "base_uri": "https://localhost:8080/",
          "height": 449
        },
        "id": "yFhMwA7wOdSz",
        "outputId": "dde7f8e7-017e-475c-96aa-2498914cb87e"
      },
      "execution_count": null,
      "outputs": [
        {
          "output_type": "display_data",
          "data": {
            "text/plain": [
              "<Figure size 640x480 with 1 Axes>"
            ],
            "image/png": "[encoded data removed]"
          },
          "metadata": {}
        }
      ]
    },
    {
      "cell_type": "markdown",
      "source": [
        "In this code, we perform PCA with 5 components as before, and then plot the explained variance ratio of each component using a bar plot. We set the x-axis to show the principal component numbers 1 through 5 using plt.xticks(). Finally, we call plt.show() to display the plot.\n",
        "\n",
        "\n",
        "\n"
      ],
      "metadata": {
        "id": "MO7xCUccPA0F"
      }
    },
    {
      "cell_type": "code",
      "source": [
        "import pandas as pd\n",
        "from sklearn.ensemble import RandomForestClassifier\n",
        "from sklearn.decomposition import PCA\n",
        "from sklearn.preprocessing import StandardScaler\n",
        "from sklearn.model_selection import train_test_split\n",
        "from sklearn.metrics import accuracy_score\n",
        "\n",
        "# Load the dataset\n",
        "data = pd.read_csv(\"/content/netflix_titles.csv\")\n",
        "\n",
        "# Separate the input variables and the output variable\n",
        "X = data.drop('description', axis=1)\n",
        "y = data['description']\n",
        "\n",
        "# Split the data into training and testing sets\n",
        "X_train, X_test, y_train, y_test = train_test_split(X, y, test_size=0.3, random_state=42)\n",
        "\n",
        "# Fit and evaluate the Random Forest model\n",
        "rfc = RandomForestClassifier(n_estimators=100, random_state=42)\n",
        "rfc.fit(X_train, y_train)\n",
        "y_pred_rfc = rfc.predict(X_test)\n",
        "acc_rfc = accuracy_score(y_test, y_pred_rfc)\n",
        "\n",
        "# Fit and evaluate the PCA + Random Forest model\n",
        "scaler = StandardScaler()\n",
        "X_train_std = scaler.fit_transform(X_train)\n",
        "X_test_std = scaler.transform(X_test)\n",
        "\n",
        "pca = PCA(n_components=5)\n",
        "X_train_pca = pca.fit_transform(X_train_std)\n",
        "X_test_pca = pca.transform(X_test_std)\n",
        "\n",
        "rfc_pca = RandomForestClassifier(n_estimators=100, random_state=42)\n",
        "rfc_pca.fit(X_train_pca, y_train)\n",
        "y_pred_rfc_pca = rfc_pca.predict(X_test_pca)\n",
        "acc_rfc_pca = accuracy_score(y_test, y_pred_rfc_pca)\n",
        "\n",
        "# Print the accuracy of both models\n",
        "print(\"Accuracy of Random Forest: {:.2f}%\".format(acc_rfc*100))\n",
        "print(\"Accuracy of PCA + Random Forest: {:.2f}%\".format(acc_rfc_pca*100))\n"
      ],
      "metadata": {
        "colab": {
          "base_uri": "https://localhost:8080/"
        },
        "id": "PEKAZftBPdxr",
        "outputId": "647ec704-da2a-44e6-b025-3b53ad8be043"
      },
      "execution_count": null,
      "outputs": [
        {
          "output_type": "stream",
          "name": "stdout",
          "text": [
            "Accuracy of Random Forest: 65.42%\n",
            "Accuracy of PCA + Random Forest: 63.75%\n"
          ]
        }
      ]
    },
    {
      "cell_type": "markdown",
      "source": [
        "In this code, we first load the dataset and split it into training and testing sets using train_test_split(). We then fit and evaluate a Random Forest model on the original dataset, and a PCA + Random Forest model on the dataset after performing PCA with 5 components. We use StandardScaler() to standardize the input variables before applying PCA. Finally, we print the accuracy of both models using accuracy_score()."
      ],
      "metadata": {
        "id": "HdwKI2c5PlLN"
      }
    },
    {
      "cell_type": "markdown",
      "source": [
        "Based on the results, we can see that the Random Forest algorithm performed slightly better than the PCA + Random Forest algorithm in terms of accuracy. The Random Forest algorithm achieved an accuracy of 65.42%, while the PCA + Random Forest algorithm achieved an accuracy of 63.75%.\n",
        "\n",
        "However, it's important to note that the PCA + Random Forest algorithm may have some advantages in terms of computational efficiency and interpretability. PCA can reduce the dimensionality of the dataset, which can result in faster training times and less memory usage. Additionally, by reducing the number of features, it can make it easier to interpret the results and identify which features are most important for the classification task.\n",
        "\n",
        "Overall, the choice between these two approaches would depend on the specific requirements of the problem and the trade-offs between accuracy, computational efficiency, and interpretability."
      ],
      "metadata": {
        "id": "jBm-4WLzPmDT"
      }
    },
    {
      "cell_type": "code",
      "source": [
        "from sklearn.decomposition import PCA\n",
        "from sklearn.preprocessing import StandardScaler\n",
        "import pandas as pd\n",
        "\n",
        "\n",
        "# Load wine quality dataset\n",
        "df = pd.read_csv('/content/netflix_titles.csv')\n",
        "\n",
        "# Separate features and target variable\n",
        "X = df.drop('description', axis=1)\n",
        "y = df['description']\n",
        "\n",
        "# Scale the features\n",
        "scaler = StandardScaler()\n",
        "X_scaled = scaler.fit_transform(X)\n",
        "\n",
        "# Fit PCA with 2 components\n",
        "pca = PCA(n_components=2)\n",
        "X_pca = pca.fit_transform(X_scaled)\n",
        "\n",
        "# Print feature-reduced data\n",
        "print(X_pca)\n"
      ],
      "metadata": {
        "colab": {
          "base_uri": "https://localhost:8080/"
        },
        "id": "pdA13-_rvOop",
        "outputId": "78a68834-08b3-4246-a5d1-2acc14dfed64"
      },
      "execution_count": null,
      "outputs": [
        {
          "output_type": "stream",
          "name": "stdout",
          "text": [
            "[[-1.61952988  0.45095009]\n",
            " [-0.79916993  1.85655306]\n",
            " [-0.74847909  0.88203886]\n",
            " ...\n",
            " [-1.45612897  0.31174559]\n",
            " [-2.27051793  0.97979111]\n",
            " [-0.42697475 -0.53669021]]\n"
          ]
        }
      ]
    },
    {
      "cell_type": "code",
      "source": [
        "import pandas as pd\n",
        "from sklearn.decomposition import PCA\n",
        "from sklearn.preprocessing import StandardScaler\n",
        "import numpy as np\n",
        "\n",
        "\n",
        "# Load dataset\n",
        "wine = pd.read_csv('/content/netflix_titles.csv')\n",
        "\n",
        "# Separate features (X) and target variable (y)\n",
        "X = wine.drop('description', axis=1)\n",
        "y = wine['description']\n",
        "\n",
        "# Standardize the features\n",
        "scaler = StandardScaler()\n",
        "X_std = scaler.fit_transform(X)\n",
        "\n",
        "# Perform PCA analysis\n",
        "pca = PCA()\n",
        "X_pca = pca.fit_transform(X_std)\n",
        "\n",
        "# Print the components that explain 90% of the variance\n",
        "cumulative_variance_ratio = np.cumsum(pca.explained_variance_ratio_)\n",
        "n_components = np.argmax(cumulative_variance_ratio >= 0.9) + 1\n",
        "print(f'{n_components} components explain {cumulative_variance_ratio[n_components - 1]:.2%} of the variance')\n",
        "print(pca.components_[:n_components])\n"
      ],
      "metadata": {
        "colab": {
          "base_uri": "https://localhost:8080/"
        },
        "id": "MMopERddtaPG",
        "outputId": "fd3d72e9-a700-48b1-966a-a1db4a2efa53"
      },
      "execution_count": null,
      "outputs": [
        {
          "output_type": "stream",
          "name": "stdout",
          "text": [
            "7 components explain 90.83% of the variance\n",
            "[[ 0.48931422 -0.23858436  0.46363166  0.14610715  0.21224658 -0.03615752\n",
            "   0.02357485  0.39535301 -0.43851962  0.24292133 -0.11323207]\n",
            " [-0.11050274  0.27493048 -0.15179136  0.27208024  0.14805156  0.51356681\n",
            "   0.56948696  0.23357549  0.00671079 -0.03755392 -0.38618096]\n",
            " [-0.12330157 -0.44996253  0.23824707  0.10128338 -0.09261383  0.42879287\n",
            "   0.3224145  -0.33887135  0.05769735  0.27978615  0.47167322]\n",
            " [-0.22961737  0.07895978 -0.07941826 -0.37279256  0.66619476 -0.04353782\n",
            "  -0.03457712 -0.17449976 -0.00378775  0.55087236 -0.12218109]\n",
            " [-0.08261366  0.21873452 -0.05857268  0.73214429  0.2465009  -0.15915198\n",
            "  -0.22246456  0.15707671  0.26752977  0.22596222  0.35068141]\n",
            " [ 0.10147858  0.41144893  0.06959338  0.04915555  0.30433857 -0.01400021\n",
            "   0.13630755 -0.3911523  -0.52211645 -0.38126343  0.36164504]\n",
            " [-0.35022736 -0.5337351   0.10549701  0.29066341  0.37041337 -0.11659611\n",
            "  -0.09366237 -0.17048116 -0.02513762 -0.44746911 -0.3276509 ]]\n"
          ]
        }
      ]
    },
    {
      "cell_type": "markdown",
      "source": [
        "Explanation:\n",
        "\n",
        "We start by loading the dataset using Pandas library.\n",
        "Then we separate the features (X) from the target variable (y).\n",
        "Next, we standardize the features using the StandardScaler from Scikit-learn library.\n",
        "We then perform PCA analysis on the standardized features using PCA from Scikit-learn library.\n",
        "Finally, we print the number of components that explain 90% of the variance, and the principal components that make up these components."
      ],
      "metadata": {
        "id": "jDuh7rhxuINN"
      }
    }
  ]
}